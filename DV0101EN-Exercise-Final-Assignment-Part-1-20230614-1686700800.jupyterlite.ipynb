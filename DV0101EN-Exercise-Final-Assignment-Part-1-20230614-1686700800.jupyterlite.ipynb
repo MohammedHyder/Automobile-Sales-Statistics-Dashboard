{
 "cells": [
  {
   "cell_type": "markdown",
   "metadata": {},
   "source": [
    "<p style=\"text-align:center\">\n",
    "    <a href=\"https://skills.network\" target=\"_blank\">\n",
    "    <img src=\"https://cf-courses-data.s3.us.cloud-object-storage.appdomain.cloud/assets/logos/SN_web_lightmode.png\" width=\"200\" alt=\"Skills Network Logo\">\n",
    "    </a>\n",
    "</p>\n"
   ]
  },
  {
   "cell_type": "markdown",
   "metadata": {},
   "source": [
    "# **Create visualizations using Matplotib, Seaborn and Folium** \n",
    "\n",
    "Estimated time needed: **40** minutes\n",
    "\n",
    "In this assignment, you will have the opportunity to demonstrate the skills you have acquired in creating visualizations using *Matplotlib, Seaborn, Folium*.\n",
    "<br>\n",
    "<br>\n",
    "<span style=\"color:red\">After each task you will be required to save your plots as an image or screenshot using the filenames specified.  You will be uploading these images during your final project submission so they can be evaluated by your peers. </span>\n"
   ]
  },
  {
   "cell_type": "markdown",
   "metadata": {},
   "source": [
    "# __Table of Contents__\n",
    "\n",
    "<ol>\n",
    "    <li><a href=\"#Objectives\">Objectives</a></li>\n",
    "    <li>\n",
    "        <a href=\"#Setup\">Setup</a>\n",
    "        <ol>\n",
    "            <li><a href=\"#Installing-Required-Libraries\">Installing Required Libraries</a></li>\n",
    "            <li><a href=\"#Importing-Required-Libraries\">Importing Required Libraries</a></li>\n",
    "            </ol>\n",
    "    </li>\n",
    "    <li>\n",
    "        <a href=\"#Scenario\">Scenario</a>\n",
    "        <ol>\n",
    "            <li><a href=\"#Data Description\">Data Description</a></li>\n",
    "        </ol>\n",
    "    </li>\n",
    "    <li><a href=\"#Importing Data\">Importing data</a></li>\n",
    "    <li><a href=\"#Creating Visualizations for Data Analysis\">Creating Visualizations for Data Analysis</a></li>\n",
    "</ol>\n"
   ]
  },
  {
   "cell_type": "markdown",
   "metadata": {},
   "source": [
    "# Objectives\n",
    "\n",
    "After completing this lab you will be able to:\n",
    "\n",
    "- Create informative and visually appealing plots with Matplotlib and Seaborn.\n",
    "- Apply visualization to communicate insights from the data.\n",
    "- Analyze data through using visualizations.\n",
    "- Customize visualizations\n"
   ]
  },
  {
   "cell_type": "markdown",
   "metadata": {},
   "source": [
    "# Setup\n"
   ]
  },
  {
   "cell_type": "markdown",
   "metadata": {},
   "source": [
    "For this lab, we will be using the following libraries:\n",
    "\n",
    "*   [`pandas`](https://pandas.pydata.org/?utm_medium=Exinfluencer&utm_source=Exinfluencer&utm_content=000026UJ&utm_term=10006555&utm_id=NA-SkillsNetwork-Channel-SkillsNetworkCoursesIBMML0187ENSkillsNetwork31430127-2021-01-01) for managing the data.\n",
    "*   [`numpy`](https://numpy.org/?utm_medium=Exinfluencer&utm_source=Exinfluencer&utm_content=000026UJ&utm_term=10006555&utm_id=NA-SkillsNetwork-Channel-SkillsNetworkCoursesIBMML0187ENSkillsNetwork31430127-2021-01-01) for mathematical operations.\n",
    "*   [`matplotlib`](https://matplotlib.org/?utm_medium=Exinfluencer&utm_source=Exinfluencer&utm_content=000026UJ&utm_term=10006555&utm_id=NA-SkillsNetwork-Channel-SkillsNetworkCoursesIBMML0187ENSkillsNetwork31430127-2021-01-01) for plotting.\n",
    "*   [`seaborn`](https://seaborn.pydata.org/?utm_medium=Exinfluencer&utm_source=Exinfluencer&utm_content=000026UJ&utm_term=10006555&utm_id=NA-SkillsNetwork-Channel-SkillsNetworkCoursesIBMML0187ENSkillsNetwork31430127-2021-01-01) for plotting.\n",
    "*  [`Folium`](https://python-visualization.github.io/folium/?utm_medium=Exinfluencer&utm_source=Exinfluencer&utm_content=000026UJ&utm_term=10006555&utm_id=NA-SkillsNetwork-Channel-SkillsNetworkCoursesIBMML0187ENSkillsNetwork31430127-2021-01-01) for plotting.\n"
   ]
  },
  {
   "cell_type": "markdown",
   "metadata": {},
   "source": [
    "### Installing Required Libraries\n",
    "\n",
    "The following required libraries are pre-installed in the Skills Network Labs environment. However, if you run these notebook commands in a different Jupyter environment (e.g. Watson Studio or Ananconda), you will need to install these libraries by removing the `#` sign before `%pip` in the code cell below.\n"
   ]
  },
  {
   "cell_type": "code",
   "execution_count": 1,
   "metadata": {},
   "outputs": [
    {
     "name": "stdout",
     "output_type": "stream",
     "text": [
      "Defaulting to user installation because normal site-packages is not writeable\n",
      "Requirement already satisfied: pandas==1.3.4 in /home/elpislost/.local/lib/python3.8/site-packages (1.3.4)\n",
      "Requirement already satisfied: numpy==1.21.4 in /home/elpislost/.local/lib/python3.8/site-packages (1.21.4)\n",
      "Requirement already satisfied: matplotlib==3.5.0 in /home/elpislost/.local/lib/python3.8/site-packages (3.5.0)\n",
      "Requirement already satisfied: seaborn in /home/elpislost/.local/lib/python3.8/site-packages (0.12.2)\n",
      "Requirement already satisfied: folium in /home/elpislost/.local/lib/python3.8/site-packages (0.15.0)\n",
      "Requirement already satisfied: python-dateutil>=2.7.3 in /home/elpislost/.local/lib/python3.8/site-packages (from pandas==1.3.4) (2.8.2)\n",
      "Requirement already satisfied: pytz>=2017.3 in /home/elpislost/.local/lib/python3.8/site-packages (from pandas==1.3.4) (2022.1)\n",
      "Requirement already satisfied: cycler>=0.10 in /home/elpislost/.local/lib/python3.8/site-packages (from matplotlib==3.5.0) (0.11.0)\n",
      "Requirement already satisfied: fonttools>=4.22.0 in /home/elpislost/.local/lib/python3.8/site-packages (from matplotlib==3.5.0) (4.34.4)\n",
      "Requirement already satisfied: kiwisolver>=1.0.1 in /home/elpislost/.local/lib/python3.8/site-packages (from matplotlib==3.5.0) (1.4.3)\n",
      "Requirement already satisfied: packaging>=20.0 in /home/elpislost/.local/lib/python3.8/site-packages (from matplotlib==3.5.0) (21.3)\n",
      "Requirement already satisfied: pillow>=6.2.0 in /home/elpislost/.local/lib/python3.8/site-packages (from matplotlib==3.5.0) (9.2.0)\n",
      "Requirement already satisfied: pyparsing>=2.2.1 in /home/elpislost/.local/lib/python3.8/site-packages (from matplotlib==3.5.0) (3.0.9)\n",
      "Requirement already satisfied: setuptools-scm>=4 in /home/elpislost/.local/lib/python3.8/site-packages (from matplotlib==3.5.0) (8.0.4)\n",
      "Requirement already satisfied: branca>=0.6.0 in /home/elpislost/.local/lib/python3.8/site-packages (from folium) (0.7.0)\n",
      "Requirement already satisfied: jinja2>=2.9 in /home/elpislost/.local/lib/python3.8/site-packages (from folium) (3.1.2)\n",
      "Requirement already satisfied: requests in /home/elpislost/.local/lib/python3.8/site-packages (from folium) (2.31.0)\n",
      "Requirement already satisfied: MarkupSafe>=2.0 in /home/elpislost/.local/lib/python3.8/site-packages (from jinja2>=2.9->folium) (2.1.1)\n",
      "Requirement already satisfied: six>=1.5 in /home/elpislost/.local/lib/python3.8/site-packages (from python-dateutil>=2.7.3->pandas==1.3.4) (1.12.0)\n",
      "Requirement already satisfied: setuptools in /home/elpislost/.local/lib/python3.8/site-packages (from setuptools-scm>=4->matplotlib==3.5.0) (69.0.2)\n",
      "Requirement already satisfied: typing-extensions in /home/elpislost/.local/lib/python3.8/site-packages (from setuptools-scm>=4->matplotlib==3.5.0) (4.8.0)\n",
      "Requirement already satisfied: tomli>=1 in /home/elpislost/.local/lib/python3.8/site-packages (from setuptools-scm>=4->matplotlib==3.5.0) (2.0.1)\n",
      "Requirement already satisfied: charset-normalizer<4,>=2 in /home/elpislost/.local/lib/python3.8/site-packages (from requests->folium) (3.3.2)\n",
      "Requirement already satisfied: idna<4,>=2.5 in /home/elpislost/.local/lib/python3.8/site-packages (from requests->folium) (3.6)\n",
      "Requirement already satisfied: urllib3<3,>=1.21.1 in /usr/local/lib/python3.8/dist-packages/urllib3-1.22-py3.8.egg (from requests->folium) (1.22)\n",
      "Requirement already satisfied: certifi>=2017.4.17 in /usr/lib/python3/dist-packages (from requests->folium) (2019.11.28)\n",
      "\u001b[33mDEPRECATION: distro-info 0.23ubuntu1 has a non-standard version number. pip 24.0 will enforce this behaviour change. A possible replacement is to upgrade to a newer version of distro-info or contact the author to suggest that they release a version with a conforming version number. Discussion can be found at https://github.com/pypa/pip/issues/12063\u001b[0m\u001b[33m\n",
      "\u001b[0m\u001b[33mDEPRECATION: python-debian 0.1.36ubuntu1 has a non-standard version number. pip 24.0 will enforce this behaviour change. A possible replacement is to upgrade to a newer version of python-debian or contact the author to suggest that they release a version with a conforming version number. Discussion can be found at https://github.com/pypa/pip/issues/12063\u001b[0m\u001b[33m\n",
      "\u001b[0m"
     ]
    }
   ],
   "source": [
    "# All Libraries required for this lab are listed below. The libraries pre-installed on Skills Network Labs are commented.\n",
    "!pip install pandas==1.3.4 numpy==1.21.4 matplotlib==3.5.0 seaborn folium\n",
    "# Note: If your environment doesn't support \"%pip install\", use \"!mamba install\""
   ]
  },
  {
   "cell_type": "code",
   "execution_count": 5,
   "metadata": {},
   "outputs": [],
   "source": [
    "# !pip install seaborn\n",
    "# !pip install folium"
   ]
  },
  {
   "cell_type": "markdown",
   "metadata": {},
   "source": [
    "### Importing Required Libraries\n",
    "\n",
    "_We recommend you import all required libraries in one place (here):_\n"
   ]
  },
  {
   "cell_type": "code",
   "execution_count": 2,
   "metadata": {},
   "outputs": [],
   "source": [
    "import numpy as np\n",
    "import pandas as pd\n",
    "%matplotlib inline\n",
    "import matplotlib as mpl\n",
    "import matplotlib.pyplot as plt\n",
    "import seaborn as sns\n",
    "import folium"
   ]
  },
  {
   "cell_type": "markdown",
   "metadata": {},
   "source": [
    "\n",
    "\n",
    "<details><summary>Click here for a hint</summary>\n",
    "\n",
    "<p>\n",
    "You will require:-\n",
    "<br>Numpy for many scientific computing in Python\n",
    "<br>Pandas for creating and working on dataframe, also for plotting directly on dataframe/series\n",
    "<br>The inline backend to generate the plots within the browser [%matplotlib inline]\n",
    "<br>Matplotlib and its pyplot pacakge for plotting\n",
    "<br>Seaborn for plotting\n",
    "</details>\n",
    "\n",
    "\n"
   ]
  },
  {
   "cell_type": "markdown",
   "metadata": {},
   "source": [
    "\n",
    "<details><summary>Click here for python solution</summary>\n",
    "\n",
    "```python\n",
    "    #Import Primary Modules:\n",
    "    import numpy as np\n",
    "    import pandas as pd\n",
    "    %matplotlib inline\n",
    "    import matplotlib as mpl\n",
    "    import matplotlib.pyplot as plt\n",
    "    import seaborn as sns\n",
    "    import folium\n",
    "```\n",
    "\n",
    "</details>\n"
   ]
  },
  {
   "cell_type": "markdown",
   "metadata": {},
   "source": [
    "---\n"
   ]
  },
  {
   "cell_type": "markdown",
   "metadata": {},
   "source": [
    "# Scenario\n",
    "\n",
    "In this assignment you will be tasked with creating plots which answer questions for analysing \"historical_automobile_sales\" data to understand the historical trends in automobile sales during recession periods.<br>\n",
    "recession period 1 - year 1980 <br>\n",
    "recession period 2 - year 1981 to 1982<br>\n",
    "recession period 3 - year 1991<br>\n",
    "recession period 4 - year 2000 to 2001<br>\n",
    "recession period 5 - year end 2007 to mid 2009<br>\n",
    "recession period 6 - year 2020 -Feb to April (Covid-19 Impact)<br>\n",
    "\n",
    "# Data Description\n",
    "\n",
    "The dataset used for this visualization assignment contains *historical_automobile_sales* data representing automobile sales and related variables during recession and non-recession period. \n",
    "\n",
    "The dataset includes the following variables:\n",
    "<br>1. Date: The date of the observation.\n",
    "<br>2. Recession: A binary variable indicating recession perion; 1 means it was recession, 0 means it was normal.\n",
    "<br>3. Automobile_Sales: The number of vehicles sold during the period.\n",
    "<br>4. GDP: The per capita GDP value in USD.\n",
    "<br>5. Unemployment_Rate: The monthly unemployment rate.\n",
    "<br>6. Consumer_Confidence: A synthetic index representing consumer confidence, which can impact consumer spending and automobile purchases.\n",
    "<br>7. Seasonality_Weight: The weight representing the seasonality effect on automobile sales during the period.\n",
    "<br>8. Price: The average vehicle price during the period.\n",
    "<br>9. Advertising_Expenditure: The advertising expenditure of the company.\n",
    "<br>10.Vehicle_Type: The type of vehicles sold; Supperminicar, Smallfamiliycar,                 Mediumfamilycar, Executivecar, Sports.\n",
    "<br>11.Competition: The measure of competition in the market, such as the number of competitors or market share of major manufacturers.\n",
    "<br>12.Month: Month of the observation extracted from Date..\n",
    "<br>13.Year: Year of the observation extracted from Date.\n",
    "<br>\n",
    "By examining various factors mentioned above from the dataset, you aim to gain insights into how recessions impacted automobile sales for your company.\n"
   ]
  },
  {
   "cell_type": "markdown",
   "metadata": {},
   "source": [
    "---\n"
   ]
  },
  {
   "cell_type": "markdown",
   "metadata": {},
   "source": [
    "# Importing Data\n"
   ]
  },
  {
   "cell_type": "markdown",
   "metadata": {},
   "source": [
    "#### For your convenience, we have already written code to import the data below.\n"
   ]
  },
  {
   "cell_type": "code",
   "execution_count": 3,
   "metadata": {},
   "outputs": [
    {
     "name": "stdout",
     "output_type": "stream",
     "text": [
      "Data downloaded and read into a dataframe!\n"
     ]
    }
   ],
   "source": [
    "# from js import fetch\n",
    "import io\n",
    "import requests\n",
    "\n",
    "URL = \"https://cf-courses-data.s3.us.cloud-object-storage.appdomain.cloud/IBMDeveloperSkillsNetwork-DV0101EN-SkillsNetwork/Data%20Files/historical_automobile_sales.csv\"\n",
    "# resp = await fetch(URL)\n",
    "# text = io.BytesIO((await resp.arrayBuffer()).to_py())\n",
    "\n",
    "# resp = requests.get(URL)\n",
    "# text = resp.text\n",
    "text = URL\n",
    "\n",
    "# import pandas as pd\n",
    "df = pd.read_csv(text)\n",
    "print('Data downloaded and read into a dataframe!')"
   ]
  },
  {
   "cell_type": "code",
   "execution_count": 4,
   "metadata": {},
   "outputs": [
    {
     "data": {
      "text/html": [
       "<div>\n",
       "<style scoped>\n",
       "    .dataframe tbody tr th:only-of-type {\n",
       "        vertical-align: middle;\n",
       "    }\n",
       "\n",
       "    .dataframe tbody tr th {\n",
       "        vertical-align: top;\n",
       "    }\n",
       "\n",
       "    .dataframe thead th {\n",
       "        text-align: right;\n",
       "    }\n",
       "</style>\n",
       "<table border=\"1\" class=\"dataframe\">\n",
       "  <thead>\n",
       "    <tr style=\"text-align: right;\">\n",
       "      <th></th>\n",
       "      <th>Year</th>\n",
       "      <th>Recession</th>\n",
       "      <th>Consumer_Confidence</th>\n",
       "      <th>Seasonality_Weight</th>\n",
       "      <th>Price</th>\n",
       "      <th>Advertising_Expenditure</th>\n",
       "      <th>Competition</th>\n",
       "      <th>GDP</th>\n",
       "      <th>Growth_Rate</th>\n",
       "      <th>unemployment_rate</th>\n",
       "      <th>Automobile_Sales</th>\n",
       "    </tr>\n",
       "  </thead>\n",
       "  <tbody>\n",
       "    <tr>\n",
       "      <th>count</th>\n",
       "      <td>528.000000</td>\n",
       "      <td>528.000000</td>\n",
       "      <td>528.000000</td>\n",
       "      <td>528.000000</td>\n",
       "      <td>528.000000</td>\n",
       "      <td>528.000000</td>\n",
       "      <td>528.000000</td>\n",
       "      <td>528.000000</td>\n",
       "      <td>528.000000</td>\n",
       "      <td>528.000000</td>\n",
       "      <td>528.000000</td>\n",
       "    </tr>\n",
       "    <tr>\n",
       "      <th>mean</th>\n",
       "      <td>2001.500000</td>\n",
       "      <td>0.214015</td>\n",
       "      <td>101.140170</td>\n",
       "      <td>0.575795</td>\n",
       "      <td>24964.991956</td>\n",
       "      <td>3067.456439</td>\n",
       "      <td>6.064394</td>\n",
       "      <td>40.073903</td>\n",
       "      <td>-0.242001</td>\n",
       "      <td>2.453977</td>\n",
       "      <td>2352.718068</td>\n",
       "    </tr>\n",
       "    <tr>\n",
       "      <th>std</th>\n",
       "      <td>12.710467</td>\n",
       "      <td>0.410526</td>\n",
       "      <td>10.601154</td>\n",
       "      <td>0.454477</td>\n",
       "      <td>4888.073433</td>\n",
       "      <td>1139.564637</td>\n",
       "      <td>1.968350</td>\n",
       "      <td>16.249714</td>\n",
       "      <td>0.861268</td>\n",
       "      <td>1.119019</td>\n",
       "      <td>1645.321284</td>\n",
       "    </tr>\n",
       "    <tr>\n",
       "      <th>min</th>\n",
       "      <td>1980.000000</td>\n",
       "      <td>0.000000</td>\n",
       "      <td>73.900000</td>\n",
       "      <td>0.000000</td>\n",
       "      <td>8793.663000</td>\n",
       "      <td>1009.000000</td>\n",
       "      <td>3.000000</td>\n",
       "      <td>12.508000</td>\n",
       "      <td>-4.227601</td>\n",
       "      <td>1.000000</td>\n",
       "      <td>102.000000</td>\n",
       "    </tr>\n",
       "    <tr>\n",
       "      <th>25%</th>\n",
       "      <td>1990.750000</td>\n",
       "      <td>0.000000</td>\n",
       "      <td>94.035000</td>\n",
       "      <td>0.250000</td>\n",
       "      <td>21453.300500</td>\n",
       "      <td>2083.500000</td>\n",
       "      <td>4.000000</td>\n",
       "      <td>27.237500</td>\n",
       "      <td>-0.574049</td>\n",
       "      <td>1.600000</td>\n",
       "      <td>793.950000</td>\n",
       "    </tr>\n",
       "    <tr>\n",
       "      <th>50%</th>\n",
       "      <td>2001.500000</td>\n",
       "      <td>0.000000</td>\n",
       "      <td>100.740000</td>\n",
       "      <td>0.500000</td>\n",
       "      <td>25038.691500</td>\n",
       "      <td>3072.000000</td>\n",
       "      <td>6.000000</td>\n",
       "      <td>39.214500</td>\n",
       "      <td>-0.013162</td>\n",
       "      <td>2.300000</td>\n",
       "      <td>2182.600000</td>\n",
       "    </tr>\n",
       "    <tr>\n",
       "      <th>75%</th>\n",
       "      <td>2012.250000</td>\n",
       "      <td>0.000000</td>\n",
       "      <td>108.240000</td>\n",
       "      <td>0.750000</td>\n",
       "      <td>28131.684750</td>\n",
       "      <td>4067.250000</td>\n",
       "      <td>8.000000</td>\n",
       "      <td>53.506500</td>\n",
       "      <td>0.388932</td>\n",
       "      <td>2.900000</td>\n",
       "      <td>3614.800000</td>\n",
       "    </tr>\n",
       "    <tr>\n",
       "      <th>max</th>\n",
       "      <td>2023.000000</td>\n",
       "      <td>1.000000</td>\n",
       "      <td>131.670000</td>\n",
       "      <td>1.500000</td>\n",
       "      <td>44263.657000</td>\n",
       "      <td>4983.000000</td>\n",
       "      <td>9.000000</td>\n",
       "      <td>70.374000</td>\n",
       "      <td>0.815074</td>\n",
       "      <td>6.000000</td>\n",
       "      <td>21147.000000</td>\n",
       "    </tr>\n",
       "  </tbody>\n",
       "</table>\n",
       "</div>"
      ],
      "text/plain": [
       "              Year   Recession  Consumer_Confidence  Seasonality_Weight  \\\n",
       "count   528.000000  528.000000           528.000000          528.000000   \n",
       "mean   2001.500000    0.214015           101.140170            0.575795   \n",
       "std      12.710467    0.410526            10.601154            0.454477   \n",
       "min    1980.000000    0.000000            73.900000            0.000000   \n",
       "25%    1990.750000    0.000000            94.035000            0.250000   \n",
       "50%    2001.500000    0.000000           100.740000            0.500000   \n",
       "75%    2012.250000    0.000000           108.240000            0.750000   \n",
       "max    2023.000000    1.000000           131.670000            1.500000   \n",
       "\n",
       "              Price  Advertising_Expenditure  Competition         GDP  \\\n",
       "count    528.000000               528.000000   528.000000  528.000000   \n",
       "mean   24964.991956              3067.456439     6.064394   40.073903   \n",
       "std     4888.073433              1139.564637     1.968350   16.249714   \n",
       "min     8793.663000              1009.000000     3.000000   12.508000   \n",
       "25%    21453.300500              2083.500000     4.000000   27.237500   \n",
       "50%    25038.691500              3072.000000     6.000000   39.214500   \n",
       "75%    28131.684750              4067.250000     8.000000   53.506500   \n",
       "max    44263.657000              4983.000000     9.000000   70.374000   \n",
       "\n",
       "       Growth_Rate  unemployment_rate  Automobile_Sales  \n",
       "count   528.000000         528.000000        528.000000  \n",
       "mean     -0.242001           2.453977       2352.718068  \n",
       "std       0.861268           1.119019       1645.321284  \n",
       "min      -4.227601           1.000000        102.000000  \n",
       "25%      -0.574049           1.600000        793.950000  \n",
       "50%      -0.013162           2.300000       2182.600000  \n",
       "75%       0.388932           2.900000       3614.800000  \n",
       "max       0.815074           6.000000      21147.000000  "
      ]
     },
     "execution_count": 4,
     "metadata": {},
     "output_type": "execute_result"
    }
   ],
   "source": [
    "df.describe()"
   ]
  },
  {
   "cell_type": "code",
   "execution_count": 5,
   "metadata": {},
   "outputs": [
    {
     "data": {
      "text/plain": [
       "Index(['Date', 'Year', 'Month', 'Recession', 'Consumer_Confidence',\n",
       "       'Seasonality_Weight', 'Price', 'Advertising_Expenditure', 'Competition',\n",
       "       'GDP', 'Growth_Rate', 'unemployment_rate', 'Automobile_Sales',\n",
       "       'Vehicle_Type', 'City'],\n",
       "      dtype='object')"
      ]
     },
     "execution_count": 5,
     "metadata": {},
     "output_type": "execute_result"
    }
   ],
   "source": [
    "df.columns"
   ]
  },
  {
   "cell_type": "code",
   "execution_count": 45,
   "metadata": {},
   "outputs": [
    {
     "data": {
      "text/html": [
       "\n",
       "        <iframe\n",
       "            width=\"100%\"\n",
       "            height=\"650\"\n",
       "            src=\"http://127.0.0.1:8050/\"\n",
       "            frameborder=\"0\"\n",
       "            allowfullscreen\n",
       "            \n",
       "        ></iframe>\n",
       "        "
      ],
      "text/plain": [
       "<IPython.lib.display.IFrame at 0x7f57577a9370>"
      ]
     },
     "metadata": {},
     "output_type": "display_data"
    }
   ],
   "source": [
    "#!/usr/bin/env python\n",
    "# coding: utf-8\n",
    "\n",
    "# In[ ]:\n",
    "\n",
    "\n",
    "import dash\n",
    "from dash import dcc\n",
    "from dash import html\n",
    "from dash.dependencies import Input, Output\n",
    "import pandas as pd\n",
    "import plotly.graph_objs as go\n",
    "import plotly.express as px\n",
    "\n",
    "# Load the data using pandas\n",
    "data = pd.read_csv('https://cf-courses-data.s3.us.cloud-object-storage.appdomain.cloud/IBMDeveloperSkillsNetwork-DV0101EN-SkillsNetwork/Data%20Files/historical_automobile_sales.csv')\n",
    "\n",
    "# Initialize the Dash app\n",
    "app = dash.Dash(__name__)\n",
    "\n",
    "# Set the title of the dashboard\n",
    "app.title = \"Automobile Sales Statistics Dashboard\"\n",
    "\n",
    "#---------------------------------------------------------------------------------\n",
    "# Create the dropdown menu options\n",
    "dropdown_options = [\n",
    "    {'label': 'Yearly Statistics', 'value': 'Yearly Statistics'},\n",
    "    {'label': 'Recession Period Statistics', 'value': 'Recession Period Statistics'}\n",
    "]\n",
    "# List of years \n",
    "year_list = [i for i in range(1980, 2024, 1)]\n",
    "#---------------------------------------------------------------------------------------\n",
    "# Create the layout of the app\n",
    "app.layout = html.Div([\n",
    "    #TASK 2.1 Add title to the dashboard\n",
    "    html.H1(\"Automobile Sales Statistics Dashboard\", style = {'textAlign' : 'center', \n",
    "                                                              'color' : '#503D36', \n",
    "                                                              'fontSize': '24'}),\n",
    "                                                              #May include style for title\n",
    "    html.Div([#TASK 2.2: Add two dropdown menus\n",
    "        html.Label(\"Dropdown Statistics:\"),\n",
    "        dcc.Dropdown(\n",
    "            id='dropdown-statistics',\n",
    "            options=dropdown_options,\n",
    "            value='Select Statistics',\n",
    "            placeholder='Select a report type',\n",
    "            style={'width':'0.8', 'padding':'3', 'fontSize':'20', 'textAlignLast' : 'center'}\n",
    "        ),\n",
    "    ]),\n",
    "    html.Div(\n",
    "        dcc.Dropdown(\n",
    "            id='select-year',\n",
    "            options=[{'label': i, 'value': i} for i in year_list],\n",
    "            value='Select a year',\n",
    "            placeholder='Select a year',\n",
    "            style={'width':'0.8', 'padding':'3', 'fontSize':'20', 'textAlignLast':'center'}\n",
    "            )),\n",
    "    html.Div([#TASK 2.3: Add a division for output display\n",
    "        html.Div(id='output-container', className='chart-item', style={'display':'flex'}),\n",
    "    ])\n",
    "])\n",
    "#TASK 2.4: Creating Callbacks\n",
    "# Define the callback function to update the input container based on the selected statistics\n",
    "@app.callback(\n",
    "    Output(component_id='select-year', component_property='disabled'),\n",
    "    Input(component_id='dropdown-statistics', component_property='value'))\n",
    "\n",
    "def update_input_container(selected_statistics):\n",
    "    if selected_statistics == 'Yearly Statistics': \n",
    "        return False\n",
    "    else: \n",
    "        return True\n",
    "\n",
    "#Callback for plotting\n",
    "# Define the callback function to update the input container based on the selected statistics\n",
    "@app.callback(\n",
    "    Output(component_id='output-container', component_property='children'),\n",
    "    [Input(component_id='dropdown-statistics', component_property='value'),\n",
    "     Input(component_id='select-year', component_property='value'), \n",
    "    ])\n",
    "\n",
    "\n",
    "def update_output_container(selected_statistics, input_year):\n",
    "    if selected_statistics == 'Recession Period Statistics':\n",
    "        # Filter the data for recession periods\n",
    "        recession_data = data[data['Recession'] == 1]\n",
    "        yearly_data = data[data['Year'] == input_year]\n",
    "\n",
    "#TASK 2.5: Create and display graphs for Recession Report Statistics\n",
    "\n",
    "#Plot 1 Automobile sales fluctuate over Recession Period (year wise)\n",
    "        # use groupby to create relevant data for plotting\n",
    "        yearly_rec=recession_data.groupby('Year')['Automobile_Sales'].mean().reset_index()\n",
    "        R_chart1 = dcc.Graph(\n",
    "            figure=px.line(yearly_rec, \n",
    "                x='Year',\n",
    "                y='Automobile_Sales',\n",
    "                title=\"Average Automobile Sales fluctuation over Recession Period\"))\n",
    "\n",
    "#Plot 2 Calculate the average number of vehicles sold by vehicle type       \n",
    "        # use groupby to create relevant data for plotting\n",
    "        average_sales = recession_data.groupby('Vehicle_Type')['Automobile_Sales'].mean().reset_index()                           \n",
    "        R_chart2  = dcc.Graph(\n",
    "            figure=px.bar(average_sales,\n",
    "                            x='Vehicle_Type', \n",
    "                            y='Automobile_Sales',\n",
    "                            title = \"Average Automobile Sales by Vehicle\")\n",
    "        )\n",
    "        \n",
    "# Plot 3 Pie chart for total expenditure share by vehicle type during recessions\n",
    "        # use groupby to create relevant data for plotting\n",
    "        exp_rec= recession_data.groupby('Vehicle_Type')['Advertising_Expenditure'].sum().reset_index()\n",
    "        R_chart3 = dcc.Graph(\n",
    "            figure = px.pie(exp_rec,\n",
    "            values='Advertising_Expenditure', \n",
    "            names='Vehicle_Type',\n",
    "            title='Share of Each Vehicle Type in Total Sales during Recessions')\n",
    "        )\n",
    "\n",
    "# COME BACK AND FIX \n",
    "# Plot 4 bar chart for the effect of unemployment rate on vehicle type and sales\n",
    "        unemp_rec = recession_data.groupby(['unemployment_rate', 'Vehicle_Type'])['Automobile_Sales'].mean().reset_index() # reset_index to remove grouped index\n",
    "        R_chart4 = dcc.Graph(figure = px.bar(\n",
    "                unemp_rec, \n",
    "                x = 'unemployment_rate', \n",
    "                y = 'Automobile_Sales',\n",
    "                color = 'Vehicle_Type',\n",
    "                # text = 'Vehicle_Type',\n",
    "                title = 'Average Automobile Sales by Unemployment Rate and Vehicle'\n",
    "            )\n",
    "        )\n",
    "    \n",
    "        return [\n",
    "            html.Div(className='chart-item', children=[html.Div(children=R_chart1), \n",
    "                                                       html.Div(children=R_chart2)]),\n",
    "                                                       # style = {'display' : 'flex'}),\n",
    "            html.Div(className='chart-item', children=[html.Div(children=R_chart3), \n",
    "                                                       html.Div(children=R_chart4)])\n",
    "                                                       # style = {'display' : 'flex'})\n",
    "            ]\n",
    "    \n",
    "# TASK 2.6: Create and display graphs for Yearly Report Statistics\n",
    " # Yearly Statistic Report Plots                             \n",
    "    elif (input_year and selected_statistics=='Yearly Statistics') :\n",
    "        yearly_data = data[data['Year'] == input_year]\n",
    "                              \n",
    "#TASK 2.5: Creating Graphs Yearly data\n",
    "                              \n",
    "#plot 1 Yearly Automobile sales using line chart for the whole period.\n",
    "        yas= data.groupby('Year')['Automobile_Sales'].sum().reset_index()\n",
    "        Y_chart1 = dcc.Graph(figure=px.line(yas,\n",
    "                                            x='Year', \n",
    "                                            y='Automobile_Sales', \n",
    "                                            title='Yearly Automobile Sales'))\n",
    "            \n",
    "# Plot 2 Total Monthly Automobile sales using line chart.\n",
    "        ymas = yearly_data.groupby('Month')['Automobile_Sales'].sum().reset_index()\n",
    "        Y_chart2 = dcc.Graph(figure=px.line(ymas,\n",
    "                                            x='Month',\n",
    "                                            y='Automobile_Sales',\n",
    "                                            title='Total Monthly Automobile Sales'))\n",
    "\n",
    "        # Plot bar chart for average number of vehicles sold during the given year\n",
    "        avr_vdata=yearly_data.groupby('Vehicle_Type')['Automobile_Sales'].mean().reset_index()\n",
    "        Y_chart3 = dcc.Graph(figure=px.bar(avr_vdata, \n",
    "                                           x='Vehicle_Type',\n",
    "                                           y='Automobile_Sales',\n",
    "                                           title='Average Vehicles Sold by Vehicle Type in the year {}'.format(input_year)))\n",
    "\n",
    "            # Total Advertisement Expenditure for each vehicle using pie chart\n",
    "        exp_data=yearly_data.groupby('Vehicle_Type')['Advertising_Expenditure'].sum().reset_index()\n",
    "        Y_chart4 = dcc.Graph(figure = px.pie(exp_data,\n",
    "                                             values='Advertising_Expenditure',\n",
    "                                             names='Vehicle_Type', \n",
    "                                             title='Share of Each Vehicle Type in Advertising Expenditure'      \n",
    "                                    )\n",
    "                             )\n",
    "\n",
    "#TASK 2.6: Returning the graphs for displaying Yearly data\n",
    "        return [\n",
    "                html.Div(className='chart-item', children=[html.Div(children=Y_chart1), \n",
    "                                                           html.Div(children=Y_chart2)]), \n",
    "                                                           # style = {'display' : 'flex'}),\n",
    "                html.Div(className='chart-item', children=[html.Div(children=Y_chart3),\n",
    "                                                           html.Div(children=Y_chart4)])\n",
    "                                                           # style = {'display' : 'flex'})\n",
    "                ]\n",
    "        \n",
    "    else:\n",
    "        return None\n",
    "\n",
    "# Run the Dash app\n",
    "if __name__ == '__main__':\n",
    "    app.run_server(debug=True)\n",
    "# %%"
   ]
  },
  {
   "cell_type": "code",
   "execution_count": 43,
   "metadata": {},
   "outputs": [
    {
     "data": {
      "text/html": [
       "<div>\n",
       "<style scoped>\n",
       "    .dataframe tbody tr th:only-of-type {\n",
       "        vertical-align: middle;\n",
       "    }\n",
       "\n",
       "    .dataframe tbody tr th {\n",
       "        vertical-align: top;\n",
       "    }\n",
       "\n",
       "    .dataframe thead th {\n",
       "        text-align: right;\n",
       "    }\n",
       "</style>\n",
       "<table border=\"1\" class=\"dataframe\">\n",
       "  <thead>\n",
       "    <tr style=\"text-align: right;\">\n",
       "      <th></th>\n",
       "      <th>unemployment_rate</th>\n",
       "      <th>Vehicle_Type</th>\n",
       "      <th>Automobile_Sales</th>\n",
       "    </tr>\n",
       "  </thead>\n",
       "  <tbody>\n",
       "    <tr>\n",
       "      <th>0</th>\n",
       "      <td>1.0</td>\n",
       "      <td>Mediumfamilycar</td>\n",
       "      <td>2476.700000</td>\n",
       "    </tr>\n",
       "    <tr>\n",
       "      <th>1</th>\n",
       "      <td>1.0</td>\n",
       "      <td>Smallfamiliycar</td>\n",
       "      <td>4358.300000</td>\n",
       "    </tr>\n",
       "    <tr>\n",
       "      <th>2</th>\n",
       "      <td>1.0</td>\n",
       "      <td>Sports</td>\n",
       "      <td>3169.375000</td>\n",
       "    </tr>\n",
       "    <tr>\n",
       "      <th>3</th>\n",
       "      <td>1.1</td>\n",
       "      <td>Executivecar</td>\n",
       "      <td>3482.928571</td>\n",
       "    </tr>\n",
       "    <tr>\n",
       "      <th>4</th>\n",
       "      <td>1.1</td>\n",
       "      <td>Mediumfamilycar</td>\n",
       "      <td>2430.028571</td>\n",
       "    </tr>\n",
       "    <tr>\n",
       "      <th>...</th>\n",
       "      <td>...</td>\n",
       "      <td>...</td>\n",
       "      <td>...</td>\n",
       "    </tr>\n",
       "    <tr>\n",
       "      <th>157</th>\n",
       "      <td>5.7</td>\n",
       "      <td>Supperminicar</td>\n",
       "      <td>559.400000</td>\n",
       "    </tr>\n",
       "    <tr>\n",
       "      <th>158</th>\n",
       "      <td>5.8</td>\n",
       "      <td>Mediumfamilycar</td>\n",
       "      <td>574.300000</td>\n",
       "    </tr>\n",
       "    <tr>\n",
       "      <th>159</th>\n",
       "      <td>5.8</td>\n",
       "      <td>Smallfamiliycar</td>\n",
       "      <td>581.200000</td>\n",
       "    </tr>\n",
       "    <tr>\n",
       "      <th>160</th>\n",
       "      <td>5.9</td>\n",
       "      <td>Supperminicar</td>\n",
       "      <td>325.000000</td>\n",
       "    </tr>\n",
       "    <tr>\n",
       "      <th>161</th>\n",
       "      <td>6.0</td>\n",
       "      <td>Supperminicar</td>\n",
       "      <td>750.800000</td>\n",
       "    </tr>\n",
       "  </tbody>\n",
       "</table>\n",
       "<p>162 rows × 3 columns</p>\n",
       "</div>"
      ],
      "text/plain": [
       "     unemployment_rate     Vehicle_Type  Automobile_Sales\n",
       "0                  1.0  Mediumfamilycar       2476.700000\n",
       "1                  1.0  Smallfamiliycar       4358.300000\n",
       "2                  1.0           Sports       3169.375000\n",
       "3                  1.1     Executivecar       3482.928571\n",
       "4                  1.1  Mediumfamilycar       2430.028571\n",
       "..                 ...              ...               ...\n",
       "157                5.7    Supperminicar        559.400000\n",
       "158                5.8  Mediumfamilycar        574.300000\n",
       "159                5.8  Smallfamiliycar        581.200000\n",
       "160                5.9    Supperminicar        325.000000\n",
       "161                6.0    Supperminicar        750.800000\n",
       "\n",
       "[162 rows x 3 columns]"
      ]
     },
     "metadata": {},
     "output_type": "display_data"
    },
    {
     "data": {
      "text/plain": [
       "2.3    5\n",
       "2.0    5\n",
       "3.0    5\n",
       "2.9    5\n",
       "2.8    5\n",
       "2.6    5\n",
       "2.5    5\n",
       "2.4    5\n",
       "2.2    5\n",
       "2.1    5\n",
       "1.9    5\n",
       "1.8    5\n",
       "1.7    5\n",
       "1.6    5\n",
       "1.5    5\n",
       "1.4    5\n",
       "1.3    5\n",
       "1.2    5\n",
       "1.1    5\n",
       "5.4    4\n",
       "4.4    3\n",
       "4.2    3\n",
       "1.0    3\n",
       "4.5    3\n",
       "4.8    3\n",
       "3.7    3\n",
       "3.8    3\n",
       "3.2    3\n",
       "3.6    3\n",
       "3.1    3\n",
       "2.7    3\n",
       "4.0    2\n",
       "4.1    2\n",
       "3.5    2\n",
       "4.3    2\n",
       "5.7    2\n",
       "5.8    2\n",
       "4.7    2\n",
       "4.9    2\n",
       "5.0    2\n",
       "5.2    2\n",
       "5.3    2\n",
       "5.5    2\n",
       "5.9    1\n",
       "3.4    1\n",
       "5.6    1\n",
       "4.6    1\n",
       "3.3    1\n",
       "6.0    1\n",
       "Name: unemployment_rate, dtype: int64"
      ]
     },
     "execution_count": 43,
     "metadata": {},
     "output_type": "execute_result"
    }
   ],
   "source": [
    "unemp_rec = df.groupby(['unemployment_rate', 'Vehicle_Type'])['Automobile_Sales'].mean().reset_index() # reset_index to remove grouped index\n",
    "\n",
    "# display(df.groupby('unemployment_rate').mean().reset_index())\n",
    "display(unemp_rec)\n",
    "\n",
    "unemp_rec['unemployment_rate'].value_counts()\n",
    "\n"
   ]
  },
  {
   "cell_type": "markdown",
   "metadata": {},
   "source": [
    "---\n"
   ]
  },
  {
   "cell_type": "markdown",
   "metadata": {},
   "source": [
    "# Creating Visualizations for Data Analysis\n"
   ]
  },
  {
   "cell_type": "markdown",
   "metadata": {},
   "source": [
    "### TASK 1.1: Develop a *Line chart* using the functionality of pandas to show how automobile sales fluctuate from year to year\n"
   ]
  },
  {
   "cell_type": "markdown",
   "metadata": {},
   "source": [
    "<details><summary>Click here for a hint</summary>\n",
    "\n",
    "<p>\n",
    "You will require:-\n",
    "<br>to group the year and calculate the average on the 'Automobile Sales', as the data has years and months column\n",
    "<br>make use of .plot() with kind = 'line'\n",
    "<br>donot forget to include labels and title\n",
    "</details>\n"
   ]
  },
  {
   "cell_type": "code",
   "execution_count": 19,
   "metadata": {},
   "outputs": [
    {
     "data": {
      "image/png": "[encoded data removed]",
      "text/plain": [
       "<Figure size 720x432 with 1 Axes>"
      ]
     },
     "metadata": {
      "needs_background": "light"
     },
     "output_type": "display_data"
    }
   ],
   "source": [
    "df_line = df.groupby(df['Year'])['Automobile_Sales'].mean()\n",
    "#create figure\n",
    "plt.figure(figsize=(10, 6))\n",
    "df_line.plot(kind = 'line')\n",
    "plt.xlabel('Year')\n",
    "plt.ylabel('Sales Volume')\n",
    "plt.title('Automobile Sales over Time')\n",
    "plt.show()"
   ]
  },
  {
   "cell_type": "code",
   "execution_count": 84,
   "metadata": {},
   "outputs": [
    {
     "name": "stdout",
     "output_type": "stream",
     "text": [
      "\n",
      "Probability Distribution : \n",
      " [7.07052060e-05 2.81923203e-04 1.00612461e-03 3.21376590e-03]\n",
      "Distribution : \n",
      " [0.         0.12244898 0.24489796 0.36734694 0.48979592 0.6122449\n",
      " 0.73469388 0.85714286 0.97959184 1.10204082 1.2244898  1.34693878\n",
      " 1.46938776 1.59183673 1.71428571 1.83673469 1.95918367 2.08163265\n",
      " 2.20408163 2.32653061 2.44897959 2.57142857 2.69387755 2.81632653\n",
      " 2.93877551 3.06122449 3.18367347 3.30612245 3.42857143 3.55102041\n",
      " 3.67346939 3.79591837 3.91836735 4.04081633 4.16326531 4.28571429\n",
      " 4.40816327 4.53061224 4.65306122 4.7755102  4.89795918 5.02040816\n",
      " 5.14285714 5.26530612 5.3877551  5.51020408 5.63265306 5.75510204\n",
      " 5.87755102 6.        ]\n"
     ]
    },
    {
     "data": {
      "image/png": "[encoded data removed]",
      "text/plain": [
       "<Figure size 432x288 with 1 Axes>"
      ]
     },
     "metadata": {
      "needs_background": "light"
     },
     "output_type": "display_data"
    }
   ],
   "source": [
    "# importing library \n",
    "from scipy.stats import skewnorm  \n",
    "    \n",
    "numargs = skewnorm.numargs  \n",
    "a, b = 4.32, 3.18\n",
    "rv = skewnorm (a, b)      \n",
    "# print (\"RV : \\n\", rv)  \n",
    "\n",
    "import numpy as np \n",
    "import matplotlib.pyplot as plt \n",
    "\n",
    "quantile = np.arange(0, 1, 0.333) # 0.0001)  \n",
    "\n",
    "dist1 = np.linspace(0, np.minimum(rv.dist.b, 3)) \n",
    "dist2 = np.linspace(0, np.minimum(rv.dist.b, 0.1)) \n",
    "dist3 = np.linspace(0, np.minimum(rv.dist.b, 6)) \n",
    "\n",
    "p1 = skewnorm.pdf(a, b, quantile)  \n",
    "p2 = skewnorm.pdf(a, b, quantile)  \n",
    "p3 = skewnorm.pdf(a, b, quantile)  \n",
    "\n",
    "# print(len(p1))\n",
    "\n",
    "print (\"\\nProbability Distribution : \\n\", p1)  \n",
    "\n",
    "print(\"Distribution : \\n\", dist3) \n",
    "\t\n",
    "plot = plt.plot(dist3, rv.pdf(dist3)) \n"
   ]
  },
  {
   "cell_type": "markdown",
   "metadata": {},
   "source": [
    "<details><summary>Click here for a solution template</summary>\n",
    "\n",
    "```python\n",
    "    #create data for plotting\n",
    "    df_line = df.groupby(df['Year'])['Automobile_Sales'].mean()\n",
    "    #create figure\n",
    "    plt.figure(figsize=(10, 6))\n",
    "    df_line.plot(kind = 'line')\n",
    "    plt.xlabel('Year')\n",
    "    plt.ylabel('Sales Volume')\n",
    "    plt.title('Automobile Sales over Time')\n",
    "    plt.show()\n",
    "```\n",
    "</details>\n"
   ]
  },
  {
   "cell_type": "markdown",
   "metadata": {},
   "source": [
    "### Include the following on the plot\n",
    "ticks on x- axis with all the years, to identify the years of recession \n",
    "<br>annotation for at least two years of recession\n",
    "<br>Title as Automobile Sales during Recession\n",
    "<br> \n"
   ]
  },
  {
   "cell_type": "markdown",
   "metadata": {},
   "source": [
    "<details><summary>Click here for a hint</summary>\n",
    "    <p>\n",
    "    You can create the list for the range 1980 till 2023 and pass that list to the plt.xticks function or you can directly pass the range to the function.\n",
    "    You might need to rotate the ticks to an angle so that they fit in well on the axis\n",
    "    You can include annotation with plt.text(x, y, 'text to display') \n",
    "    </p>\n",
    "</details>\n"
   ]
  },
  {
   "cell_type": "markdown",
   "metadata": {},
   "source": [
    "<details>\n",
    "    <summary>Click here for Solution template</summary>\n",
    "\n",
    "```python\n",
    "    plt.figure(figsize=(10, 6))\n",
    "    df_line = ...............\n",
    "    df_line.plot(kind = 'line')\n",
    "    plt.xticks(list(range(1980,2024)), rotation = 75)\n",
    "    plt.xlabel('..............')\n",
    "    plt.ylabel('............')\n",
    "    plt.title('...................')\n",
    "    plt.text(1982, 650, '1981-82 Recession')\n",
    "    plt.text(......, ..., '..............')\n",
    "    plt.legend()\n",
    "    plt.show()\n",
    "```\n",
    "\n",
    "</details>\n"
   ]
  },
  {
   "cell_type": "markdown",
   "metadata": {},
   "source": [
    "<span style=\"color:red\">\n",
    "Save this plot as \"Line_Plot_1.png\"</span><br>\n",
    "*Hint: You can right lick on the plot and then click on \"Save image as\" option to save it on your local machine*\n"
   ]
  },
  {
   "cell_type": "markdown",
   "metadata": {},
   "source": [
    "---\n"
   ]
  },
  {
   "cell_type": "markdown",
   "metadata": {},
   "source": [
    "\n",
    "####  TASK 1.2: Plot different lines for categories of vehicle type and analyse the trend to answer the question Is there a noticeable difference in sales trends between different vehicle types during recession periods?\n"
   ]
  },
  {
   "cell_type": "markdown",
   "metadata": {},
   "source": [
    "<details><summary>Click here for a hint</summary>\n",
    "\n",
    "    <p>\n",
    "    You will require:-\n",
    "    <br>create a separate dataframe where the column recession has a value of '1'\n",
    "    <br>to group the year, vehicle_type and calculate the average on the 'Automobile Sales'\n",
    "    <br>one way is to -\n",
    "    <br>use as_index as false else you will endup with multiple-indexed datafame\n",
    "    <br>later set year as index and groupby vehicle over Sales and plot\n",
    "    <br>make use of .plot() with kind = 'line'\n",
    "    <br>do not forget to include labels and title\n",
    "</details>\n"
   ]
  },
  {
   "cell_type": "code",
   "execution_count": null,
   "metadata": {},
   "outputs": [],
   "source": []
  },
  {
   "cell_type": "markdown",
   "metadata": {},
   "source": [
    "<details>\n",
    "    <summary>Click here for Solution template</summary>\n",
    "\n",
    "```python\n",
    "    df_Mline = df.groupby(['Year','Vehicle_Type'], as_index=False)['Automobile_Sales'].sum()\n",
    "    df_Mline.set_index('Year', inplace=True)\n",
    "    df_Mline = df_Mline.groupby(['Vehicle_Type'])['Automobile_Sales']\n",
    "    df_Mline.plot(kind='line')\n",
    "    plt.xlabel('..............')\n",
    "    plt.ylabel('............')\n",
    "    plt.title('Sales Trend Vehicle-wise during Recession')\n",
    "    plt.legend()\n",
    "    plt.show()\n",
    "\n",
    "```\n",
    "</details>\n"
   ]
  },
  {
   "cell_type": "markdown",
   "metadata": {},
   "source": [
    "#### From the above plot, what insights have you gained on the sales of various vehicle types?<br> Type in your answer below:\n"
   ]
  },
  {
   "cell_type": "markdown",
   "metadata": {},
   "source": []
  },
  {
   "cell_type": "markdown",
   "metadata": {},
   "source": [
    "<details>\n",
    "    <summary>Inference</summary>\n",
    "<p>\n",
    "Inference:\n",
    "From this plot, we can understand that during recession period, the sales for 'Sports type vehicles' declined because of the high cost of the vehicle.<br>while sales of the superminicar and smallfamilycar increased.<br><br>\n",
    "    </p>\n",
    "    </details>\n"
   ]
  },
  {
   "cell_type": "markdown",
   "metadata": {},
   "source": [
    "<span style=\"color:red\">\n",
    "Save this plot as \"Line_Plot_2.png\"</span><br>\n",
    "*Hint: You can right lick on the plot and then click on \"Save image as\" option to save it on your local machine*\n"
   ]
  },
  {
   "cell_type": "markdown",
   "metadata": {},
   "source": [
    "----\n"
   ]
  },
  {
   "cell_type": "markdown",
   "metadata": {},
   "source": [
    "### TASK 1.3: Use the functionality of **Seaborn Library** to create a visualization to compare the sales trend per vehicle type for a recession period with a non-recession period.\n"
   ]
  },
  {
   "cell_type": "markdown",
   "metadata": {},
   "source": [
    "<details><summary>Click here for a hint</summary>\n",
    "\n",
    "<p>\n",
    "     To visualize the average number of vehicles sold during recession and non-recession periods, you can use a bar chart\n",
    "        <br> You will need to group recession average Automobile_Sales and then plot it<br>\n",
    "    Make use of sns.barplot(x=x,y=y, data = df)</p>\n",
    "</details>\n"
   ]
  },
  {
   "cell_type": "markdown",
   "metadata": {},
   "source": [
    "<details>\n",
    "    <summary>Click here for Solution template</summary>\n",
    "\n",
    "```python\n",
    "    new_df = df.groupby('Recession')['Automobile_Sales'].mean().reset_index()\n",
    "\n",
    "    # Create the bar chart using seaborn\n",
    "    plt.figure(figsize=(.........., ............)\n",
    "    sns.barplot(x='Recession', y='Automobile_Sales', hue='Recession',  data=new_df)\n",
    "    plt.xlabel('............')|\n",
    "    plt.ylabel('...............')\n",
    "    plt.title('Average Automobile Sales during Recession and Non-Recession')\n",
    "    plt.xticks(ticks=[0, 1], labels=['Non-Recession', 'Recession'])\n",
    "    plt.show()\n",
    "```\n",
    "\n",
    "</details>\n"
   ]
  },
  {
   "cell_type": "markdown",
   "metadata": {},
   "source": [
    "### Now you want to compare the sales of different vehicle types during a recession and a non-recession period\n",
    "<br>We recommend that you use the functionality of **Seaborn Library** to create this visualization\n"
   ]
  },
  {
   "cell_type": "markdown",
   "metadata": {},
   "source": [
    "<details><summary>Click here for a hint</summary>\n",
    "\n",
    "<p>\n",
    "     To visualize sales of different vehicles during recession and non-recession periods, you can use a bar chart\n",
    "        <br> You will need to group Recession, Vehicle_Type for average Automobile_Sales and then plot it<br>\n",
    "    Make use of sns.barplot(x=x,y=y, data = df)</p>\n",
    "</details>\n"
   ]
  },
  {
   "cell_type": "markdown",
   "metadata": {},
   "source": [
    "<details>\n",
    "<summary>Click here for Solution template</summary>\n",
    "\n",
    "```python\n",
    "   # Filter the data for recessionary periods\n",
    "    recession_data = df[df['Recession'] == 1]\n",
    "\n",
    "    dd=df.groupby(['Recession','Vehicle_Type'])['Automobile_Sales'].mean().reset_index()\n",
    "\n",
    "    # Calculate the total sales volume by vehicle type during recessions\n",
    "    #sales_by_vehicle_type = recession_data.groupby('Vehicle_Type')['Automobile_Sales'].sum().reset_index()\n",
    "\n",
    "    # Create the grouped bar chart using seaborn\n",
    "    plt.figure(figsize=(10, 6))\n",
    "    sns.barplot(x='Recession', y='Automobile_Sales', hue='Vehicle_Type', data=dd)\n",
    "    plt.xticks(ticks=[0, 1], labels=['Non-Recession', 'Recession'])\n",
    "    plt.xlabel('Period')\n",
    "    plt.ylabel('Average Sales')\n",
    "    plt.title('Vehicle-Wise Sales during Recession and Non-Recession Period')\n",
    "\n",
    "    plt.show()\n",
    "\n",
    "```\n",
    "</details>\n"
   ]
  },
  {
   "cell_type": "markdown",
   "metadata": {},
   "source": [
    "### From the above chart what insights have you gained on the overall sales of automobiles during recession? <br> Type your answer below:-\n"
   ]
  },
  {
   "cell_type": "markdown",
   "metadata": {},
   "source": []
  },
  {
   "cell_type": "markdown",
   "metadata": {},
   "source": [
    "<details>\n",
    "<summary>Inference</summary>\n",
    "\n",
    "From this plot, we can understand that there is a drastic decline in the overall sales of the automobiles during recession.<br>However, the most affected type of vehicle is executivecar and sports<br><br>\n",
    "</details>\n"
   ]
  },
  {
   "cell_type": "markdown",
   "metadata": {},
   "source": [
    "<span style=\"color:red\">\n",
    "Save this plot as \"Bar_Chart.png\"</span><br>\n",
    "*Hint: You can right lick on the plot and then click on \"Save image as\" option to save it on your local machine*\n"
   ]
  },
  {
   "cell_type": "markdown",
   "metadata": {},
   "source": [
    "---\n"
   ]
  },
  {
   "cell_type": "markdown",
   "metadata": {},
   "source": [
    "### TASK 1.4: Use sub plotting to compare the variations in GDP during recession and non-recession period by developing line plots for each period.\n",
    "<br>Now, you want to find more insights from the data to understand the reason. <br>Plot a two line charts using subplotting to answer:-\n",
    "#### How did the GDP vary over time during recession and non-recession periods? \n",
    "<br>Make use of <u>add_subplot()</u> from Matplotlib for this comparision.\n"
   ]
  },
  {
   "cell_type": "code",
   "execution_count": null,
   "metadata": {},
   "outputs": [],
   "source": []
  },
  {
   "cell_type": "markdown",
   "metadata": {},
   "source": [
    "<details>\n",
    "<summary>Click here for Solution template</summary>\n",
    "\n",
    "```python\n",
    "    #Create dataframes for recession and non-recession period\n",
    "    rec_data = df[df['Recession'] == 1]\n",
    "    non_rec_data = df[df['Recession'] == 0]\n",
    "    \n",
    "    #Figure\n",
    "    fig=plt.figure(figsize=(12, 6))\n",
    "    \n",
    "    #Create different axes for subploting\n",
    "    ax0 = fig.add_subplot(1, 2, 1) # add subplot 1 (1 row, 2 columns, first plot)\n",
    "    ax1 = fig.add_subplot(... ,... ,... ) # add subplot 2 (1 row, 2 columns, second plot). \n",
    "    \n",
    "    #plt.subplot(1, 2, 1)\n",
    "    sns.lineplot(x='Year', y='GDP', data=rec_data, label='Recession', ax=ax0)\n",
    "    ax0.set_xlabel('Year')\n",
    "    ax0.set_ylabel('GDP')\n",
    "    ax0.set_title('GDP Variation during Recession Period')\n",
    "    \n",
    "    #plt.subplot(1, 2, 2)\n",
    "    sns.lineplot(x='......', y='......', data=........, label='.........',ax=...)\n",
    "    ax1.set_xlabel('.....')\n",
    "    ax1.set_ylabel('.......')\n",
    "    ax1.set_title('..........')\n",
    "    \n",
    "    plt.tight_layout()\n",
    "    plt.show()\n",
    "\n",
    "   #------------------------------------------------Alternatively--------------\n",
    "   #Using subplot()\n",
    "    plt.figure(figsize=(............, ..........))\n",
    "    \n",
    "    #subplot 1\n",
    "    plt.subplot(1, 2, 1)\n",
    "    sns.lineplot(x='.........', y='......', data=.........., label='......')\n",
    "    plt.xlabel('.......')\n",
    "    plt.ylabel('..........')\n",
    "    plt.legend()\n",
    "    #subplot 1\n",
    "    plt.subplot(1, 2, 2)\n",
    "    sns.lineplot(x='.........', y='......', data=.........., label='......')\n",
    "    plt.xlabel('.......')\n",
    "    plt.ylabel('..........')\n",
    "    plt.legend()\n",
    "    \n",
    "    plt.tight_layout()\n",
    "    plt.show()\n",
    "```\n",
    "</details>\n"
   ]
  },
  {
   "cell_type": "markdown",
   "metadata": {},
   "source": [
    "### Inference\n",
    "From this plot, it is evident that during recession, the GDP of the country was in a low range, might have afected the overall sales of the company<br><br>\n",
    "<span style=\"color:red\">\n",
    "Save this plot as \"Subplot.png\"</span><br>\n",
    "*Hint: You can right lick on the plot and then click on \"Save image as\" option to save it on your local machine*\n"
   ]
  },
  {
   "cell_type": "markdown",
   "metadata": {},
   "source": [
    "---\n"
   ]
  },
  {
   "cell_type": "markdown",
   "metadata": {},
   "source": [
    "### TASK 1.5: Develop a Bubble plot for displaying the impact of seasonality on Automobile Sales.\n",
    "<br>How has seasonality impacted the sales, in which months the sales were high or low? Check it for non-recession years to understand the trend\n",
    "\n",
    "##### Develop a Bubble plot for displaying Automobile Sales for every month and use Seasonality Weight for representing the size of each bubble<br>\n",
    "Title this plot as 'Seasonality impact on Automobile Sales'\n"
   ]
  },
  {
   "cell_type": "markdown",
   "metadata": {},
   "source": [
    "<details><summary>Click here for a hint</summary>\n",
    "\n",
    "<p>\n",
    "     You can create Bubble Chart by calling the scatter()\n",
    "        <br>Pass the 'Month' and 'Automobile_Sales' to the functions as x and y and then use Seasonality weight for size parameter</p>\n",
    "</details>\n"
   ]
  },
  {
   "cell_type": "code",
   "execution_count": null,
   "metadata": {},
   "outputs": [],
   "source": []
  },
  {
   "cell_type": "markdown",
   "metadata": {},
   "source": [
    "<details>\n",
    "<summary>Click here for Solution template</summary>\n",
    "\n",
    "```python\n",
    "    non_rec_data = df[df['Recession'] == 0]\n",
    "    \n",
    "    size=non_rec_data['Seasonality_Weight'] #for bubble effect\n",
    "    \n",
    "    sns.scatterplot(data=non_rec_data, x='....', y='........', size=size)\n",
    "    \n",
    "    #you can further include hue='Seasonality_Weight', legend=False)\n",
    "\n",
    "    plt.xlabel('Month')\n",
    "    plt.ylabel('Automobile_Sales')\n",
    "    plt.title('Seasonality impact on Automobile Sales')\n",
    "\n",
    "    plt.show()\n",
    "\n",
    "```\n",
    "</details>\n"
   ]
  },
  {
   "cell_type": "markdown",
   "metadata": {},
   "source": [
    "### Inference\n",
    "From this plot, it is evident that seasonality has not affected on the overall sales. However, there is a drastic raise in sales in the month of April<br><br>\n",
    "<span style=\"color:red\">\n",
    "Save this plot as \"Bubble.png\"</span><br>\n",
    "*Hint: You can right lick on the plot and then click on \"Save image as\" option to save it on your local machine*\n"
   ]
  },
  {
   "cell_type": "markdown",
   "metadata": {},
   "source": [
    "---\n"
   ]
  },
  {
   "cell_type": "markdown",
   "metadata": {},
   "source": [
    " ### TASK 1.6: Use the functionality of Matplotlib to develop a scatter plot to identify the correlation between average vehicle price relate to the sales volume during recessions.\n",
    " #### From the data, develop a scatter plot to identify if there a correlation between consumer confidence and automobile sales during recession period? \n",
    " <br> Title this plot as 'Consumer Confidence and Automobile Sales during Recessions'\n"
   ]
  },
  {
   "cell_type": "markdown",
   "metadata": {},
   "source": [
    "<details><summary>Click here for a hint</summary>\n",
    "\n",
    "<p>\n",
    "     You can create dataframe where recession is '1'.\n",
    "        <br>Pass the 'Consumer_Confidence' and 'Automobile_Sales' to the plt.scatter()</p>\n",
    "</details>\n"
   ]
  },
  {
   "cell_type": "code",
   "execution_count": null,
   "metadata": {},
   "outputs": [],
   "source": []
  },
  {
   "cell_type": "markdown",
   "metadata": {},
   "source": [
    "<details>\n",
    "<summary>Click here for Solution template</summary>\n",
    "\n",
    "```python\n",
    "    #Create dataframes for recession and non-recession period\n",
    "    rec_data = df[df['Recession'] == 1]\n",
    "    plt.scatter(recession_data['Consumer_Confidence'], rec_data['Automobile_Sales'])\n",
    "    \n",
    "    plt.xlabel('.....')\n",
    "    plt.ylabel('.......')\n",
    "    plt.title('..........')\n",
    "    plt.show()\n",
    "\n",
    "```\n",
    "</details>\n"
   ]
  },
  {
   "cell_type": "markdown",
   "metadata": {},
   "source": [
    "\n",
    " ### How does the average vehicle price relate to the sales volume during recessions?\n",
    " <br> Plot another scatter plot and title it as 'Relationship between Average Vehicle Price and Sales during Recessions'\n"
   ]
  },
  {
   "cell_type": "code",
   "execution_count": 19,
   "metadata": {},
   "outputs": [
    {
     "data": {
      "image/png": "[encoded data removed]",
      "text/plain": [
       "<Figure size 432x288 with 1 Axes>"
      ]
     },
     "metadata": {
      "needs_background": "light"
     },
     "output_type": "display_data"
    }
   ],
   "source": [
    "rec_data = df[df['Recession'] == 1]\n",
    "plt.scatter(rec_data['Price'], rec_data['Automobile_Sales'])\n",
    "    \n",
    "plt.xlabel('Price')\n",
    "plt.ylabel('Automobile Sales')\n",
    "plt.title('Price by Automobile Sales')\n",
    "plt.show()"
   ]
  },
  {
   "cell_type": "markdown",
   "metadata": {},
   "source": [
    "<details>\n",
    "<summary>Click here for Solution template</summary>\n",
    "\n",
    "```python\n",
    "    #Create dataframes for recession and non-recession period\n",
    "    rec_data = df[df['Recession'] == 1]\n",
    "    plt.scatter(recession_data['Price'], rec_data['Automobile_Sales'])\n",
    "    \n",
    "    plt.xlabel('.....')\n",
    "    plt.ylabel('.......')\n",
    "    plt.title('..........')\n",
    "    plt.show()\n",
    "\n",
    "```\n",
    "</details>\n"
   ]
  },
  {
   "cell_type": "markdown",
   "metadata": {},
   "source": [
    "### Inference\n",
    "There is not much relation!<br><br>\n",
    "<span style=\"color:red\">\n",
    "Save this plot as \"Scatter.png\"</span><br>\n",
    "*Hint: You can right lick on the plot and then click on \"Save image as\" option to save it on your local machine*\n"
   ]
  },
  {
   "cell_type": "markdown",
   "metadata": {},
   "source": [
    "----\n"
   ]
  },
  {
   "cell_type": "markdown",
   "metadata": {},
   "source": [
    " ### TASK 1.7: Create a pie chart to display the portion of advertising expenditure of XYZAutomotives during recession and non-recession periods.\n",
    " <br>How did the advertising expenditure of XYZAutomotives change during recession and non-recession periods? \n"
   ]
  },
  {
   "cell_type": "markdown",
   "metadata": {},
   "source": [
    "<details><summary>Click here for a hint</summary>\n",
    "\n",
    "<p>\n",
    "     You can create two dataframe for recession and nonreccession period.\n",
    "    <br> Calculate the sum of Advertising_Expenditure for both dataframes\n",
    "    <br> Pass these total values to plt.pie(). May include labels as ['Recession', 'Non-Recession']\n",
    "        <br>Feel Free to customie the pie further\n",
    "    <br>title this plot as  - Advertising Expenditure during Recession and Non-Recession Periods</p>\n",
    "</details>\n"
   ]
  },
  {
   "cell_type": "code",
   "execution_count": null,
   "metadata": {},
   "outputs": [],
   "source": []
  },
  {
   "cell_type": "markdown",
   "metadata": {},
   "source": [
    "<details>\n",
    "<summary>Click here for Solution template</summary>\n",
    "\n",
    "```python\n",
    "    # Filter the data \n",
    "    Rdata = df[df['Recession'] == 1]\n",
    "    NRdata = df[df['Recession'] == 0]\n",
    "\n",
    "    # Calculate the total advertising expenditure for both periods\n",
    "    RAtotal = Rdata['Advertising_Expenditure'].sum()\n",
    "    NRAtotal = NRdata['Advertising_Expenditure'].sum()\n",
    "\n",
    "    # Create a pie chart for the advertising expenditure \n",
    "    plt.figure(figsize=(8, 6))\n",
    "\n",
    "    labels = ['Recession', 'Non-Recession']\n",
    "    sizes = [RAtotal, NRtotal]\n",
    "    plt.pie(sizes, labels=labels, autopct='%1.1f%%', startangle=90)\n",
    "\n",
    "    plt.title('Advertising Expenditure during Recession and Non-Recession Periods')\n",
    "\n",
    "    plt.show()\n",
    "\n",
    "\n",
    "```\n",
    "</details>\n"
   ]
  },
  {
   "cell_type": "markdown",
   "metadata": {},
   "source": [
    "#### From the above plot, what insights do you find on the advertisement expenditure during recession and non recession periods?<br> Type your answer below:-\n"
   ]
  },
  {
   "cell_type": "markdown",
   "metadata": {},
   "source": []
  },
  {
   "cell_type": "markdown",
   "metadata": {},
   "source": [
    "<details><summary>Inference</summary>\n",
    "It seems ABCAutomotives has been spending much more on the advertisements during non-recession periods as compared to during recession times. Fair enough!<br><br></details>\n"
   ]
  },
  {
   "cell_type": "markdown",
   "metadata": {},
   "source": [
    "<span style=\"color:red\">\n",
    "Save this plot as \"Pie_1.png\"</span><br>\n",
    "*Hint: You can right lick on the plot and then click on \"Save image as\" option to save it on your local machine*\n"
   ]
  },
  {
   "cell_type": "markdown",
   "metadata": {},
   "source": [
    "---\n"
   ]
  },
  {
   "cell_type": "markdown",
   "metadata": {},
   "source": [
    "### TASK 1.8: Develop a pie chart to display the total Advertisement expenditure for each vehicle type during recession period.<br>\n",
    "Can we observe the share of each vehicle type in total sales during recessions? \n",
    "#### Create another pie plot to display the total advertisement expenditure for each vehicle type\n"
   ]
  },
  {
   "cell_type": "markdown",
   "metadata": {},
   "source": [
    "<details><summary>Click here for a hint</summary>\n",
    "\n",
    "<p>\n",
    "     You will be required to group vehicle type for sum of advertisement expenditure.\n",
    "    <br> the plot a pie with the data, May include relevant labels\n",
    "    <br>title this plot as  - Share of Each Vehicle Type in Total Sales during Recessions</p>\n",
    "</details>\n"
   ]
  },
  {
   "cell_type": "code",
   "execution_count": null,
   "metadata": {},
   "outputs": [],
   "source": []
  },
  {
   "cell_type": "markdown",
   "metadata": {},
   "source": [
    "<details>\n",
    "    <summary>Click here for Solution template</summary>\n",
    "\n",
    "```python\n",
    "    # Filter the data \n",
    "    Rdata = df[df['Recession'] == 1]\n",
    "\n",
    "    # Calculate the sales volume by vehicle type during recessions\n",
    "    VTsales = Rdata.groupby('Vehicle_Type')['Advertising_Expenditure'].sum()\n",
    "\n",
    "    # Create a pie chart for the share of each vehicle type in total sales during recessions\n",
    "    plt.figure(figsize=(8, 6))\n",
    "\n",
    "    labels = VTsales.index\n",
    "    sizes = VTsales.values\n",
    "    plt.pie(sizes, labels=labels, autopct='%1.1f%%', startangle=90)\n",
    "\n",
    "    plt.title('Share of Each Vehicle Type in Total Sales during Recessions')\n",
    "\n",
    "    plt.show()\n",
    "```\n",
    "    </details>\n"
   ]
  },
  {
   "cell_type": "markdown",
   "metadata": {},
   "source": [
    "### Inference\n",
    "During recession the advertisements were mostly focued on low price range vehicle. A wise decision!<br><br>\n",
    "<span style=\"color:red\">\n",
    "Save this plot as \"Pie_2.png\"</span><br>\n",
    "*Hint: You can right lick on the plot and then click on \"Save image as\" option to save it on your local machine*\n"
   ]
  },
  {
   "cell_type": "markdown",
   "metadata": {},
   "source": [
    "----\n"
   ]
  },
  {
   "cell_type": "markdown",
   "metadata": {},
   "source": [
    " ### TASK 1.9: Develop a countplot to analyse the effect of the unemployment rate on vehicle type and sales during the Recession Period.\n",
    " <br>Analyze the effect of the unemployment rate on vehicle type and sales during the Recession Period\n",
    " #### You can create a countplot and title the plot as 'Effect of Unemployment Rate on Vehicle Type and Sales'\n"
   ]
  },
  {
   "cell_type": "markdown",
   "metadata": {},
   "source": [
    "<details><summary>Click here for a hint</summary>\n",
    "\n",
    "<p>\n",
    "    Filter out the data for recession period<br>\n",
    "     Make use of countplot() from seaborn and pass the relavent data</p>\n",
    "</details>\n"
   ]
  },
  {
   "cell_type": "code",
   "execution_count": 23,
   "metadata": {},
   "outputs": [
    {
     "data": {
      "image/png": "[encoded data removed]",
      "text/plain": [
       "<Figure size 1296x648 with 1 Axes>"
      ]
     },
     "metadata": {
      "needs_background": "light"
     },
     "output_type": "display_data"
    }
   ],
   "source": [
    "data= df[df['Recession'] == 1]\n",
    "\n",
    "plt.figure(figsize=(18, 9))\n",
    "\n",
    "sns.countplot(data=data, x='unemployment_rate', hue='Vehicle_Type')\n",
    "\n",
    "plt.xlabel('Unemployment Rate')\n",
    "plt.ylabel('Count')\n",
    "plt.title('Effect of Unemployment Rate on Vehicle Type and Sales')\n",
    "plt.legend(loc='upper right')\n",
    "plt.show()"
   ]
  },
  {
   "cell_type": "markdown",
   "metadata": {},
   "source": [
    "<details>\n",
    "    <summary>Click here for Solution template</summary>\n",
    "\n",
    "```python\n",
    "    data= df[df['Recession'] == 1]\n",
    "    \n",
    "    plt.figure(figsize=(10, 6))\n",
    "    \n",
    "    sns.countplot(data=data, x='unemployment_rate', hue='Vehicle_Type')\n",
    "    \n",
    "    plt.xlabel('Unemployment Rate')\n",
    "    plt.ylabel('Count')\n",
    "    plt.title('Effect of Unemployment Rate on Vehicle Type and Sales')\n",
    "    plt.legend(loc='upper right')\n",
    "    plt.show()\n",
    "```\n",
    "\n",
    "</details>\n"
   ]
  },
  {
   "cell_type": "markdown",
   "metadata": {},
   "source": [
    "#### From the above plot, what insights have you gained on the sales of superminicar, smallfamilycar, mediumminicar?<br> Type your answer below:-\n"
   ]
  },
  {
   "cell_type": "markdown",
   "metadata": {},
   "source": []
  },
  {
   "cell_type": "markdown",
   "metadata": {},
   "source": [
    "<details><summary>Inference</summary>\n",
    "During recession, buying pattern changed, the sales of low range vehicle like superminicar,smallfamilycar and Mediumminicar<br><br>\n",
    "</details>\n"
   ]
  },
  {
   "cell_type": "markdown",
   "metadata": {},
   "source": [
    "<span style=\"color:red\">\n",
    "Save this plot as \"count_plot.png\"</span><br>\n",
    "*Hint: You can right lick on the plot and then click on \"Save image as\" option to save it on your local machine*\n"
   ]
  },
  {
   "cell_type": "markdown",
   "metadata": {},
   "source": [
    "---\n"
   ]
  },
  {
   "cell_type": "markdown",
   "metadata": {},
   "source": [
    "### OPTIONAL : TASK 1.10 Create a map on the hightest sales region/offices of the company during recession period\n"
   ]
  },
  {
   "cell_type": "code",
   "execution_count": null,
   "metadata": {},
   "outputs": [],
   "source": [
    "from pyodide.http import pyfetch\n",
    "\n",
    "async def download(url, filename):\n",
    "    response = await pyfetch(url)\n",
    "    if response.status == 200:\n",
    "        with open(filename, \"wb\") as f:\n",
    "            f.write(await response.bytes())\n",
    "\n",
    "path = 'https://cf-courses-data.s3.us.cloud-object-storage.appdomain.cloud/IBMDeveloperSkillsNetwork-DV0101EN-SkillsNetwork/Data%20Files/us-states.json'\n",
    "await download(path, \"us-states.json\")\n",
    "\n",
    "filename = \"us-states.json\""
   ]
  },
  {
   "cell_type": "markdown",
   "metadata": {},
   "source": [
    "#### You found that the datset also contains the location/city for company offices. Now you want to show the recession impact on various offices/city sales by developing a choropleth\n"
   ]
  },
  {
   "cell_type": "code",
   "execution_count": null,
   "metadata": {},
   "outputs": [],
   "source": []
  },
  {
   "cell_type": "markdown",
   "metadata": {},
   "source": [
    "<details><summary>Click for Solution</summary>\n",
    "    \n",
    "```python\n",
    "\n",
    "    # Filter the data for the recession period and specific cities\n",
    "    recession_data = data[data['Recession'] == 1]\n",
    "\n",
    "    # Calculate the total sales by city\n",
    "    sales_by_city = recession_data.groupby('City')['Automobile_Sales'].sum().reset_index()\n",
    "\n",
    "    # Create a base map centered on the United States\n",
    "    map1 = folium.Map(location=[37.0902, -95.7129], zoom_start=4)\n",
    "\n",
    "    # Create a choropleth layer using Folium\n",
    "    choropleth = folium.Choropleth(\n",
    "        geo_data= 'us-states.json',  # GeoJSON file with state boundaries\n",
    "        data=sales_by_city,\n",
    "        columns=['City', 'Automobile_Sales'],\n",
    "        key_on='feature.properties.name',\n",
    "        fill_color='YlOrRd',\n",
    "        fill_opacity=0.7,\n",
    "        line_opacity=0.2,\n",
    "        legend_name='Automobile Sales during Recession'\n",
    "    ).add_to(map1)\n",
    "\n",
    "\n",
    "    # Add tooltips to the choropleth layer\n",
    "    choropleth.geojson.add_child(\n",
    "        folium.features.GeoJsonTooltip(['name'], labels=True)\n",
    "    )\n",
    "\n",
    "    # Display the map\n",
    "    map1\n",
    "\n",
    "```\n",
    "</details>\n"
   ]
  },
  {
   "cell_type": "markdown",
   "metadata": {},
   "source": [
    "# Congratulations! You have completed the lab\n"
   ]
  },
  {
   "cell_type": "markdown",
   "metadata": {},
   "source": [
    "## Authors\n"
   ]
  },
  {
   "cell_type": "markdown",
   "metadata": {},
   "source": [
    "[Dr. Pooja](author_link)\n"
   ]
  },
  {
   "cell_type": "markdown",
   "metadata": {},
   "source": [
    "## Change Log\n"
   ]
  },
  {
   "cell_type": "markdown",
   "metadata": {},
   "source": [
    "|Date (YYYY-MM-DD)|Version|Changed By|Change Description|\n",
    "|-|-|-|-|\n",
    "2023-06-17|0.2|Pooja|Initial Lab Creation|\n",
    "|2023-05-01|0.1|Shengkai|Create Lab Template|\n"
   ]
  },
  {
   "cell_type": "markdown",
   "metadata": {},
   "source": [
    "Copyright © 2023 IBM Corporation. All rights reserved.\n"
   ]
  }
 ],
 "metadata": {
  "kernelspec": {
   "display_name": "Python 3 (ipykernel)",
   "language": "python",
   "name": "python3"
  },
  "language_info": {
   "codemirror_mode": {
    "name": "ipython",
    "version": 3
   },
   "file_extension": ".py",
   "mimetype": "text/x-python",
   "name": "python",
   "nbconvert_exporter": "python",
   "pygments_lexer": "ipython3",
   "version": "3.8.10"
  }
 },
 "nbformat": 4,
 "nbformat_minor": 4
}
